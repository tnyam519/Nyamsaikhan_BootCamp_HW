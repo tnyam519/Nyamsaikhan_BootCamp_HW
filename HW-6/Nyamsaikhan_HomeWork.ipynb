{
 "cells": [
  {
   "cell_type": "code",
   "execution_count": 1,
   "metadata": {},
   "outputs": [
    {
     "name": "stdout",
     "output_type": "stream",
     "text": [
      "Requirement already satisfied: citipy in c:\\users\\ted nyam\\anaconda3\\lib\\site-packages (0.0.5)\n",
      "Requirement already satisfied: kdtree>=0.12 in c:\\users\\ted nyam\\anaconda3\\lib\\site-packages (from citipy) (0.16)\n"
     ]
    }
   ],
   "source": [
    "!pip install citipy"
   ]
  },
  {
   "cell_type": "code",
   "execution_count": 2,
   "metadata": {},
   "outputs": [],
   "source": [
    "%matplotlib inline\n",
    "# Dependencies and Setup\n",
    "import pandas as pd\n",
    "import numpy as np\n",
    "import requests\n",
    "import json\n",
    "import seaborn as sns\n",
    "import matplotlib.pyplot as plt\n",
    "import time\n",
    "import datetime\n",
    "\n",
    "# Import API key\n",
    "#from api_keys import api_key\n",
    "\n",
    "# Incorporated citipy to determine city based on latitude and longitude\n",
    "from citipy import citipy\n",
    "\n",
    "# Range of latitudes and longitudes\n",
    "lat_range = (-90, 90)\n",
    "lng_range = (-180, 180)"
   ]
  },
  {
   "cell_type": "code",
   "execution_count": 3,
   "metadata": {},
   "outputs": [
    {
     "name": "stdout",
     "output_type": "stream",
     "text": [
      "['vaini', 'nikolskoye', 'port alfred', 'nouadhibou', 'chengde', 'port hedland', 'lebu', 'saldanha', 'dingle', 'byron bay', 'yerbogachen', 'georgetown', 'cherskiy', 'bengkulu', 'cap malheureux']\n"
     ]
    }
   ],
   "source": [
    "# List for holding lat_lngs and cities\n",
    "lat_lngs = []\n",
    "cities = []\n",
    "\n",
    "# Create a set of random lat and lng combinations\n",
    "#Only Set to 15\n",
    "lats = np.random.uniform(low=-90.000, high=90.000, size=15)\n",
    "lngs = np.random.uniform(low=-180.000, high=180.000, size=15)\n",
    "#Only Set to 15\n",
    "lat_lngs = zip(lats, lngs)\n",
    "\n",
    "# Identify nearest city for each lat, lng combination\n",
    "for lat_lng in lat_lngs:\n",
    "    city = citipy.nearest_city(lat_lng[0], lat_lng[1]).city_name\n",
    "    \n",
    "    # If the city is unique, then add it to a our cities list\n",
    "    if city not in cities:\n",
    "        cities.append(city)\n",
    "\n",
    "# Print the city count to confirm sufficient count\n",
    "len(cities)\n",
    "print(cities)"
   ]
  },
  {
   "cell_type": "code",
   "execution_count": 4,
   "metadata": {},
   "outputs": [],
   "source": [
    "# Save config information.\n",
    "url = \"http://api.openweathermap.org/data/2.5/weather?\"\n",
    "city = cities\n",
    "#Plots are listed in Imperial\n",
    "units = \"imperial\"\n",
    "#Manual API option\n",
    "api_key = \"ab6b6f7264d209fd092074fa3b76ef60\""
   ]
  },
  {
   "cell_type": "code",
   "execution_count": 5,
   "metadata": {},
   "outputs": [
    {
     "data": {
      "text/plain": [
       "{'coord': {'lon': -9.06, 'lat': 42.77},\n",
       " 'weather': [{'id': 801,\n",
       "   'main': 'Clouds',\n",
       "   'description': 'few clouds',\n",
       "   'icon': '02d'}],\n",
       " 'base': 'stations',\n",
       " 'main': {'temp': 67.8,\n",
       "  'pressure': 1020,\n",
       "  'humidity': 72,\n",
       "  'temp_min': 64.99,\n",
       "  'temp_max': 71.01},\n",
       " 'visibility': 10000,\n",
       " 'wind': {'speed': 11.41, 'deg': 350},\n",
       " 'clouds': {'all': 20},\n",
       " 'dt': 1563647280,\n",
       " 'sys': {'type': 1,\n",
       "  'id': 6434,\n",
       "  'message': 0.0065,\n",
       "  'country': 'ES',\n",
       "  'sunrise': 1563599719,\n",
       "  'sunset': 1563653367},\n",
       " 'timezone': 7200,\n",
       " 'id': 3115824,\n",
       " 'name': 'Muros',\n",
       " 'cod': 200}"
      ]
     },
     "execution_count": 5,
     "metadata": {},
     "output_type": "execute_result"
    }
   ],
   "source": [
    "# Test for city of London to see if URL and API work\n",
    "base_url = \"http://api.openweathermap.org/data/2.5/weather?\"\n",
    "query_url_test = f\"{base_url}appid={api_key}&units={units}&q=muros\"\n",
    "response=requests.get(query_url_test).json()\n",
    "response"
   ]
  },
  {
   "cell_type": "code",
   "execution_count": 6,
   "metadata": {},
   "outputs": [
    {
     "name": "stdout",
     "output_type": "stream",
     "text": [
      "Beginning Data Retrieval\n",
      "-------------------------------\n",
      "Processing Record 1 of Set 1 | vaini\n",
      "Processing Record 2 of Set 1 | nikolskoye\n",
      "Processing Record 3 of Set 1 | port alfred\n",
      "Processing Record 4 of Set 1 | nouadhibou\n",
      "Processing Record 5 of Set 1 | chengde\n",
      "Processing Record 6 of Set 1 | port hedland\n",
      "Processing Record 7 of Set 1 | lebu\n",
      "Processing Record 8 of Set 1 | saldanha\n",
      "Processing Record 9 of Set 1 | dingle\n",
      "Processing Record 10 of Set 1 | byron bay\n",
      "Processing Record 11 of Set 1 | yerbogachen\n",
      "Processing Record 12 of Set 1 | georgetown\n",
      "Processing Record 13 of Set 1 | cherskiy\n",
      "City not found. Skipping...\n",
      "Processing Record 14 of Set 1 | cap malheureux\n",
      "-------------------------------\n",
      "Data Retrieval Complete\n",
      "-------------------------------\n"
     ]
    }
   ],
   "source": [
    "# Create empty lists to append the API data into lists \n",
    "city_name = []\n",
    "city_id = []\n",
    "cloudiness = []\n",
    "country = []\n",
    "date = []\n",
    "humidity = []\n",
    "lat = []\n",
    "lng = []\n",
    "max_temp = []\n",
    "wind_speed = []\n",
    "\n",
    "# Start the call counter \n",
    "record = 0\n",
    "set= 1\n",
    "count= 0\n",
    "\n",
    "# Log file print statement\n",
    "print(f\"Beginning Data Retrieval\")\n",
    "print(f\"-------------------------------\")\n",
    "\n",
    "#Loop through the cities in the city list \n",
    "for city in cities:\n",
    "    \n",
    "    #used to count to 50 and reset\n",
    "    if count == 50:\n",
    "        #sets a sleep period for api\n",
    "       time.sleep(1)\n",
    "       count = 0\n",
    "       record = 0\n",
    "       set+=1\n",
    "    \n",
    "    # Try statement to append calls where value is found \n",
    "    # Not all calls return data as OpenWeatherMap will not have have records in all the cities generated by CityPy module\n",
    "    try: \n",
    "        response = requests.get(f\"{base_url}appid={api_key}&units={units}&q={city}\").json()\n",
    "        city_name.append(response[\"name\"])\n",
    "        city_id.append(response[\"id\"])\n",
    "        cloudiness.append(response[\"clouds\"][\"all\"])\n",
    "        country.append(response[\"sys\"][\"country\"])\n",
    "        date.append(response[\"dt\"])\n",
    "        humidity.append(response[\"main\"][\"humidity\"])\n",
    "        max_temp.append(response[\"main\"][\"temp_max\"])\n",
    "        lat.append(response[\"coord\"][\"lat\"])\n",
    "        lng.append(response[\"coord\"][\"lon\"])\n",
    "        wind_speed.append(response[\"wind\"][\"speed\"])\n",
    "                \n",
    "        # Increase counter by one \n",
    "        count += 1\n",
    "        record += 1\n",
    "        \n",
    "        #Print log of each city as it's being processed with the city name.\n",
    "        print(f\"Processing Record {record} of Set {set} | {city}\")\n",
    "        \n",
    "# If no record found \"skip\" to next call\n",
    "    except:\n",
    "        print(\"City not found. Skipping...\")\n",
    "    continue\n",
    "    \n",
    "# Log file print statement\n",
    "print(f\"-------------------------------\")\n",
    "print(f\"Data Retrieval Complete\")\n",
    "print(f\"-------------------------------\")"
   ]
  },
  {
   "cell_type": "code",
   "execution_count": 7,
   "metadata": {},
   "outputs": [
    {
     "data": {
      "text/plain": [
       "City          14\n",
       "Cloudiness    14\n",
       "Country       14\n",
       "Date          14\n",
       "Humidity      14\n",
       "Lat           14\n",
       "Lng           14\n",
       "Max Temp      14\n",
       "Wind Speed    14\n",
       "dtype: int64"
      ]
     },
     "execution_count": 7,
     "metadata": {},
     "output_type": "execute_result"
    }
   ],
   "source": [
    "# Create a dictonary with the lists generated\n",
    "weatherpy_dict = {\n",
    "    \"City\": city_name,\n",
    "    #Unsure if a City ID needs to be displayed, requested in instructions but the example does not show a ID\n",
    "    #\"City ID\": city_id,\n",
    "    \"Cloudiness\":cloudiness, \n",
    "    \"Country\":country,\n",
    "    \"Date\":date, \n",
    "    \"Humidity\": humidity,\n",
    "    \"Lat\":lat, \n",
    "    \"Lng\":lng, \n",
    "    \"Max Temp\": max_temp,\n",
    "    \"Wind Speed\":wind_speed\n",
    "}\n",
    "\n",
    "# Create a data frame from dictionary\n",
    "weather_data = pd.DataFrame(weatherpy_dict)\n",
    "\n",
    "# Display count of weather data values \n",
    "weather_data.count()"
   ]
  },
  {
   "cell_type": "code",
   "execution_count": 8,
   "metadata": {},
   "outputs": [
    {
     "data": {
      "text/html": [
       "<div>\n",
       "<style scoped>\n",
       "    .dataframe tbody tr th:only-of-type {\n",
       "        vertical-align: middle;\n",
       "    }\n",
       "\n",
       "    .dataframe tbody tr th {\n",
       "        vertical-align: top;\n",
       "    }\n",
       "\n",
       "    .dataframe thead th {\n",
       "        text-align: right;\n",
       "    }\n",
       "</style>\n",
       "<table border=\"1\" class=\"dataframe\">\n",
       "  <thead>\n",
       "    <tr style=\"text-align: right;\">\n",
       "      <th></th>\n",
       "      <th>City</th>\n",
       "      <th>Cloudiness</th>\n",
       "      <th>Country</th>\n",
       "      <th>Date</th>\n",
       "      <th>Humidity</th>\n",
       "      <th>Lat</th>\n",
       "      <th>Lng</th>\n",
       "      <th>Max Temp</th>\n",
       "      <th>Wind Speed</th>\n",
       "    </tr>\n",
       "  </thead>\n",
       "  <tbody>\n",
       "    <tr>\n",
       "      <th>0</th>\n",
       "      <td>Vaini</td>\n",
       "      <td>96</td>\n",
       "      <td>IN</td>\n",
       "      <td>1563647686</td>\n",
       "      <td>92</td>\n",
       "      <td>15.34</td>\n",
       "      <td>74.49</td>\n",
       "      <td>77.38</td>\n",
       "      <td>5.06</td>\n",
       "    </tr>\n",
       "    <tr>\n",
       "      <th>1</th>\n",
       "      <td>Nikolskoye</td>\n",
       "      <td>20</td>\n",
       "      <td>RU</td>\n",
       "      <td>1563647686</td>\n",
       "      <td>68</td>\n",
       "      <td>59.70</td>\n",
       "      <td>30.79</td>\n",
       "      <td>68.00</td>\n",
       "      <td>4.47</td>\n",
       "    </tr>\n",
       "    <tr>\n",
       "      <th>2</th>\n",
       "      <td>Port Alfred</td>\n",
       "      <td>93</td>\n",
       "      <td>ZA</td>\n",
       "      <td>1563647389</td>\n",
       "      <td>72</td>\n",
       "      <td>-33.59</td>\n",
       "      <td>26.89</td>\n",
       "      <td>55.00</td>\n",
       "      <td>5.01</td>\n",
       "    </tr>\n",
       "    <tr>\n",
       "      <th>3</th>\n",
       "      <td>Nouadhibou</td>\n",
       "      <td>0</td>\n",
       "      <td>MR</td>\n",
       "      <td>1563647686</td>\n",
       "      <td>61</td>\n",
       "      <td>20.93</td>\n",
       "      <td>-17.03</td>\n",
       "      <td>77.00</td>\n",
       "      <td>16.11</td>\n",
       "    </tr>\n",
       "    <tr>\n",
       "      <th>4</th>\n",
       "      <td>ChengDe</td>\n",
       "      <td>33</td>\n",
       "      <td>CN</td>\n",
       "      <td>1563647686</td>\n",
       "      <td>95</td>\n",
       "      <td>40.97</td>\n",
       "      <td>117.93</td>\n",
       "      <td>66.40</td>\n",
       "      <td>2.28</td>\n",
       "    </tr>\n",
       "  </tbody>\n",
       "</table>\n",
       "</div>"
      ],
      "text/plain": [
       "          City  Cloudiness Country        Date  Humidity    Lat     Lng  \\\n",
       "0        Vaini          96      IN  1563647686        92  15.34   74.49   \n",
       "1   Nikolskoye          20      RU  1563647686        68  59.70   30.79   \n",
       "2  Port Alfred          93      ZA  1563647389        72 -33.59   26.89   \n",
       "3   Nouadhibou           0      MR  1563647686        61  20.93  -17.03   \n",
       "4      ChengDe          33      CN  1563647686        95  40.97  117.93   \n",
       "\n",
       "   Max Temp  Wind Speed  \n",
       "0     77.38        5.06  \n",
       "1     68.00        4.47  \n",
       "2     55.00        5.01  \n",
       "3     77.00       16.11  \n",
       "4     66.40        2.28  "
      ]
     },
     "execution_count": 8,
     "metadata": {},
     "output_type": "execute_result"
    }
   ],
   "source": [
    "# Save data frame to CSV\n",
    "weather_data.to_csv('weather_data.csv')\n",
    "weather_data.head()"
   ]
  },
  {
   "cell_type": "code",
   "execution_count": 9,
   "metadata": {},
   "outputs": [
    {
     "data": {
      "image/png": "[encoded data removed]",
      "text/plain": [
       "<Figure size 432x288 with 1 Axes>"
      ]
     },
     "metadata": {
      "needs_background": "light"
     },
     "output_type": "display_data"
    }
   ],
   "source": [
    "# Build a scatter plot for each data type\n",
    "plt.scatter(weather_data[\"Lat\"], weather_data[\"Max Temp\"], marker=\"o\", s=10)\n",
    "\n",
    "# Incorporate the other graph properties\n",
    "plt.title('City Latitude vs. Max Temperature (' + time.strftime(\"%m/%d/%y\") + ')')\n",
    "plt.ylabel(\"Max. Temperature (F)\")\n",
    "plt.xlabel(\"Latitude\")\n",
    "plt.grid(True)\n",
    "\n",
    "# Save the figure\n",
    "plt.savefig(\"Max_Temp_vs_Latitude.png\")\n",
    "\n",
    "# Show plot\n",
    "plt.show()"
   ]
  },
  {
   "cell_type": "code",
   "execution_count": 10,
   "metadata": {},
   "outputs": [
    {
     "data": {
      "image/png": "[encoded data removed]",
      "text/plain": [
       "<Figure size 432x288 with 1 Axes>"
      ]
     },
     "metadata": {
      "needs_background": "light"
     },
     "output_type": "display_data"
    }
   ],
   "source": [
    "# Build a scatter plot for each data type\n",
    "plt.scatter(weather_data[\"Lat\"], weather_data[\"Humidity\"], marker=\"o\", s=10)\n",
    "\n",
    "# Incorporate the other graph properties\n",
    "plt.title('City Latitude vs. Humidity (' + time.strftime(\"%m/%d/%y\") + ')')\n",
    "plt.ylabel(\"Humidity (%)\")\n",
    "plt.xlabel(\"Latitude\")\n",
    "plt.grid(True)\n",
    "\n",
    "# Save the figure\n",
    "plt.savefig(\"Humidity_vs_Latitude.png\")\n",
    "\n",
    "# Show plot\n",
    "plt.show()"
   ]
  },
  {
   "cell_type": "code",
   "execution_count": 11,
   "metadata": {},
   "outputs": [
    {
     "data": {
      "image/png": "[encoded data removed]",
      "text/plain": [
       "<Figure size 432x288 with 1 Axes>"
      ]
     },
     "metadata": {
      "needs_background": "light"
     },
     "output_type": "display_data"
    }
   ],
   "source": [
    "# Build a scatter plot for each data type\n",
    "plt.scatter(weather_data[\"Lat\"], weather_data[\"Cloudiness\"], marker=\"o\", s=10)\n",
    "\n",
    "# Incorporate the other graph properties\n",
    "plt.title('City Latitude vs. Cloudiness (' + time.strftime(\"%m/%d/%y\") + ')')\n",
    "plt.ylabel(\"Cloudiness (%)\")\n",
    "plt.xlabel(\"Latitude\")\n",
    "plt.grid(True)\n",
    "\n",
    "# Save the figure\n",
    "plt.savefig(\"Cloudiness_vs_Latitude.png\")\n",
    "\n",
    "# Show plot\n",
    "plt.show()"
   ]
  },
  {
   "cell_type": "code",
   "execution_count": 14,
   "metadata": {
    "scrolled": true
   },
   "outputs": [
    {
     "data": {
      "image/png": "[encoded data removed]",
      "text/plain": [
       "<Figure size 432x288 with 1 Axes>"
      ]
     },
     "metadata": {
      "needs_background": "light"
     },
     "output_type": "display_data"
    }
   ],
   "source": [
    "\n",
    "# Build a scatter plot for each data type\n",
    "plt.scatter(weather_data[\"Lat\"], weather_data[\"Wind Speed\"], marker=\"o\", s=10)\n",
    "\n",
    "# Incorporate the other graph properties\n",
    "plt.title('City Latitude vs. Wind Speed (' + time.strftime(\"%m/%d/%y\") + ')')\n",
    "plt.ylabel(\"Wind Speed (mph)\")\n",
    "plt.xlabel(\"Latitude\")\n",
    "plt.grid(True)\n",
    "\n",
    "# Save the figure\n",
    "plt.savefig(\"Wind_Speed_vs_Latitude.png\")\n",
    "\n",
    "# Show plot\n",
    "plt.show()\n"
   ]
  },
  {
   "cell_type": "code",
   "execution_count": null,
   "metadata": {},
   "outputs": [],
   "source": [
    "#Three Observable Trends\n",
    "#Overall the vast majority of Cities in any latitude have wind speeds below 10 miles per hour.\n",
    "#Cities near the equator have higher humidity than furth away from the equator. However humidity is fairly high in both hemispheres and appear to mirror each other.\n",
    "#Temperature graph has the most observable trends with the Equator and Tropics beign the warmest. The Northern Hemisphere is warm during summertime and Southern Hemisphere is cooler due to its winter season."
   ]
  }
 ],
 "metadata": {
  "kernelspec": {
   "display_name": "Python 3",
   "language": "python",
   "name": "python3"
  },
  "language_info": {
   "codemirror_mode": {
    "name": "ipython",
    "version": 3
   },
   "file_extension": ".py",
   "mimetype": "text/x-python",
   "name": "python",
   "nbconvert_exporter": "python",
   "pygments_lexer": "ipython3",
   "version": "3.7.3"
  }
 },
 "nbformat": 4,
 "nbformat_minor": 2
}
